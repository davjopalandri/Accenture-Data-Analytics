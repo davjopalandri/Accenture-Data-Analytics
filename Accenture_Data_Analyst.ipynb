{
  "nbformat": 4,
  "nbformat_minor": 0,
  "metadata": {
    "colab": {
      "provenance": []
    },
    "kernelspec": {
      "name": "python3",
      "display_name": "Python 3"
    },
    "language_info": {
      "name": "python"
    }
  },
  "cells": [
    {
      "cell_type": "code",
      "execution_count": 110,
      "metadata": {
        "id": "XAPJqwKiAF_u"
      },
      "outputs": [],
      "source": [
        "import pandas as pd\n",
        "import matplotlib.pyplot as plt\n",
        "import seaborn as sns\n",
        "from google.colab import files\n",
        "\n"
      ]
    },
    {
      "cell_type": "code",
      "source": [
        "data = pd.read_csv('/content/Content.csv')\n",
        "df1 = data.drop ('Unnamed: 0', axis = 1)\n",
        "df1 = df1.drop(df1.columns[4], axis=1)\n",
        "df1 = df1.drop(df1.columns[1], axis=1)\n",
        "df1 = df1.dropna()\n",
        "df1 = df1.rename(columns={'Type': 'Content Type'})\n",
        "df1['Category'] = df1['Category'].apply(lambda x: str(x).replace('\"', ''))\n",
        "df1\n",
        "# df1.to_excel('Clean_Content.xlsx', index=False)\n",
        "# files.download('Clean_Content.xlsx')"
      ],
      "metadata": {
        "id": "tDwyvGu8kRCs"
      },
      "execution_count": null,
      "outputs": []
    },
    {
      "cell_type": "code",
      "source": [
        "data = pd.read_csv('/content/Reactions.csv')\n",
        "df2 = data.drop(data.columns[0], axis=1)\n",
        "df2 = df2.drop(df2.columns[1], axis=1)\n",
        "df2 = df2.dropna()\n",
        "df2 = df2.rename(columns={'Type': 'Reactions Type'})\n",
        "\n",
        "# df2.to_excel('Clean_Reactions.xlsx', index=False)\n",
        "# files.download('Clean_Reactions.xlsx')"
      ],
      "metadata": {
        "id": "VjG5b51iY1xy"
      },
      "execution_count": 112,
      "outputs": []
    },
    {
      "cell_type": "code",
      "source": [
        "data = pd.read_csv('/content/ReactionTypes.csv')\n",
        "df3 = data.drop(data.columns[0], axis=1)\n",
        "df3 = df3.rename(columns={'Type': 'Reactions Type'})\n",
        "df3 = df3.dropna()\n",
        "\n",
        "# df3.to_excel('Clean_ReactionTypes.xlsx', index=False)\n",
        "# files.download('Clean_ReactionTypes.xlsx')"
      ],
      "metadata": {
        "id": "a749dIHYZqbQ"
      },
      "execution_count": null,
      "outputs": []
    },
    {
      "cell_type": "code",
      "source": [
        "df_merged = pd.merge(df2, df1, on='Content ID', how='inner')\n",
        "\n",
        "df_merged = pd.merge(df_merged, df3, on='Reactions Type', how='inner')\n",
        "df_merged\n",
        "df_result = df_merged.groupby('Category')['Score'].sum()\n",
        "result = df_result.sort_values(ascending=False)\n",
        "top_5 = result.head(5)\n",
        "top_5\n",
        "\n",
        "df_merged.to_excel('Cleaned_dataset.xlsx', index=False)\n",
        "files.download('Cleaned_dataset.xlsx')\n",
        "\n",
        "top_5.to_excel('Top 5 Performances.xlsx', index=False)\n",
        "files.download('Top 5 Performances.xlsx')"
      ],
      "metadata": {
        "id": "6nhvumfOf6wu"
      },
      "execution_count": null,
      "outputs": []
    }
  ]
}